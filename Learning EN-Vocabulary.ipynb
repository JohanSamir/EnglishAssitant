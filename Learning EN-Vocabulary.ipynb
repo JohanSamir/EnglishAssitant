{
 "cells": [
  {
   "cell_type": "code",
   "execution_count": 1,
   "metadata": {},
   "outputs": [],
   "source": [
    "from translate import Translator\n",
    "import pandas as pd\n",
    "import numpy as np\n",
    "import random\n",
    "from PyDictionary import PyDictionary\n",
    "import numpy as geek "
   ]
  },
  {
   "cell_type": "code",
   "execution_count": 2,
   "metadata": {},
   "outputs": [
    {
     "data": {
      "text/html": [
       "<div>\n",
       "<style scoped>\n",
       "    .dataframe tbody tr th:only-of-type {\n",
       "        vertical-align: middle;\n",
       "    }\n",
       "\n",
       "    .dataframe tbody tr th {\n",
       "        vertical-align: top;\n",
       "    }\n",
       "\n",
       "    .dataframe thead th {\n",
       "        text-align: right;\n",
       "    }\n",
       "</style>\n",
       "<table border=\"1\" class=\"dataframe\">\n",
       "  <thead>\n",
       "    <tr style=\"text-align: right;\">\n",
       "      <th></th>\n",
       "      <th>Vocabulary</th>\n",
       "      <th>Translation</th>\n",
       "      <th>Good</th>\n",
       "      <th>Wrong</th>\n",
       "    </tr>\n",
       "  </thead>\n",
       "  <tbody>\n",
       "    <tr>\n",
       "      <th>0</th>\n",
       "      <td>lay</td>\n",
       "      <td>NaN</td>\n",
       "      <td>1.0</td>\n",
       "      <td>NaN</td>\n",
       "    </tr>\n",
       "    <tr>\n",
       "      <th>1</th>\n",
       "      <td>wings</td>\n",
       "      <td>NaN</td>\n",
       "      <td>NaN</td>\n",
       "      <td>NaN</td>\n",
       "    </tr>\n",
       "    <tr>\n",
       "      <th>2</th>\n",
       "      <td>aid</td>\n",
       "      <td>NaN</td>\n",
       "      <td>NaN</td>\n",
       "      <td>NaN</td>\n",
       "    </tr>\n",
       "    <tr>\n",
       "      <th>3</th>\n",
       "      <td>hollow</td>\n",
       "      <td>NaN</td>\n",
       "      <td>NaN</td>\n",
       "      <td>NaN</td>\n",
       "    </tr>\n",
       "    <tr>\n",
       "      <th>4</th>\n",
       "      <td>short fibers resembling hair</td>\n",
       "      <td>NaN</td>\n",
       "      <td>NaN</td>\n",
       "      <td>NaN</td>\n",
       "    </tr>\n",
       "  </tbody>\n",
       "</table>\n",
       "</div>"
      ],
      "text/plain": [
       "                     Vocabulary  Translation  Good  Wrong\n",
       "0                           lay          NaN   1.0    NaN\n",
       "1                         wings          NaN   NaN    NaN\n",
       "2                           aid          NaN   NaN    NaN\n",
       "3                        hollow          NaN   NaN    NaN\n",
       "4  short fibers resembling hair          NaN   NaN    NaN"
      ]
     },
     "execution_count": 2,
     "metadata": {},
     "output_type": "execute_result"
    }
   ],
   "source": [
    "data = pd.read_csv(\"/home/johan/repos/GitHub/EnglishAssitant/Vocabulary_Johan.csv\")\n",
    "# Preview the first 5 lines of the loaded data \n",
    "data.head()"
   ]
  },
  {
   "cell_type": "markdown",
   "metadata": {},
   "source": [
    "## Analysis"
   ]
  },
  {
   "cell_type": "code",
   "execution_count": 3,
   "metadata": {},
   "outputs": [
    {
     "name": "stdout",
     "output_type": "stream",
     "text": [
      "117\n",
      "0                             lay\n",
      "1                           wings\n",
      "2                             aid\n",
      "3                          hollow\n",
      "4    short fibers resembling hair\n",
      "Name: Vocabulary, dtype: object\n",
      "lay\n"
     ]
    }
   ],
   "source": [
    "print(len(data['Vocabulary']))\n",
    "print(data['Vocabulary'][0:5])\n",
    "print(data['Vocabulary'][0])"
   ]
  },
  {
   "cell_type": "code",
   "execution_count": 4,
   "metadata": {},
   "outputs": [
    {
     "name": "stdout",
     "output_type": "stream",
     "text": [
      "de formación\n"
     ]
    }
   ],
   "source": [
    "translator= Translator(to_lang=\"spanish\")\n",
    "translation = translator.translate(data['Vocabulary'][2])\n",
    "#translation = translator.translate(\"lay\")\n",
    "\n",
    "print (translation)"
   ]
  },
  {
   "cell_type": "code",
   "execution_count": 5,
   "metadata": {},
   "outputs": [
    {
     "name": "stdout",
     "output_type": "stream",
     "text": [
      "ayuda\n"
     ]
    }
   ],
   "source": [
    "dictionary=PyDictionary()\n",
    "print (dictionary.translate(data['Vocabulary'][2],'es'))\n"
   ]
  },
  {
   "cell_type": "markdown",
   "metadata": {},
   "source": [
    "## Study"
   ]
  },
  {
   "cell_type": "code",
   "execution_count": 35,
   "metadata": {},
   "outputs": [
    {
     "name": "stderr",
     "output_type": "stream",
     "text": [
      "/home/johan/.local/lib/python3.5/site-packages/ipykernel_launcher.py:14: RuntimeWarning: invalid value encountered in double_scalars\n",
      "  \n"
     ]
    },
    {
     "name": "stdout",
     "output_type": "stream",
     "text": [
      "0 . Wrd:  afterward\n",
      "Knowledge: nan %\n",
      "Enter your value: no\n",
      "afterward ||  Tras: después \n",
      "\n",
      "1 . Wrd:  stiff tail\n",
      "Knowledge: nan %\n",
      "Enter your value: si\n",
      "stiff tail ||  Tras: Rígido\n",
      "Congratulations!\n",
      "\n",
      "Rest, happy day!\n"
     ]
    }
   ],
   "source": [
    "translator= Translator(to_lang=\"spanish\")\n",
    "data = pd.read_csv(\"Vocabulary_Johan.csv\")\n",
    "#print(data.shape)\n",
    "data_resul = np.load (\"Statistical_Results.npy\")\n",
    "matrix = np.zeros((len(data),3))\n",
    "matrix[0:len(data_resul),:] = data_resul \n",
    "\n",
    "#print(matrix.shape)\n",
    "\n",
    "Quant = 2\n",
    "for i in range(0,Quant):\n",
    "    a = random.randint(0,len(data['Vocabulary']))\n",
    "    print(i,\". Wrd: \",data['Vocabulary'][a])\n",
    "    print(\"Knowledge:\", (matrix[a,0]/(matrix[a,0]+matrix[a,1]))*100, '%')\n",
    "    text = input(\"Enter your value: \") \n",
    "    #print(type(text)) \n",
    "    \n",
    "    if text == \"SI\" or text == \"si\":\n",
    "        print(data['Vocabulary'][a],\"||  Tras:\",translator.translate(data['Vocabulary'][a]))\n",
    "        print('Congratulations!\\n')\n",
    "        matrix[a,0] = matrix[a,0] +1 \n",
    "        #good[a] = 1\n",
    "        \n",
    "        #if data['Good'][a] == \"nan\":\n",
    "            #data['Good'][a] = geek.nan_to_num(data['Good'][a])\n",
    "        #data['Good'][a] = data['Good'][a] + 1\n",
    "    elif text == \"NO\" or text == \"no\":\n",
    "        print(data['Vocabulary'][a],\"||  Tras:\",translator.translate(data['Vocabulary'][a]),\"\\n\")\n",
    "        #print(\"Traslation 2:\",dictionary.translate(data['Vocabulary'][a],'es'),\"\\n\") \n",
    "        matrix[a,1] = matrix[a,1] +1 \n",
    "    else:\n",
    "        print('Try again')\n",
    "np.save('Statistical_Results',matrix)        \n",
    "print('Rest, happy day!')"
   ]
  }
 ],
 "metadata": {
  "kernelspec": {
   "display_name": "Python 3",
   "language": "python",
   "name": "python3"
  },
  "language_info": {
   "codemirror_mode": {
    "name": "ipython",
    "version": 3
   },
   "file_extension": ".py",
   "mimetype": "text/x-python",
   "name": "python",
   "nbconvert_exporter": "python",
   "pygments_lexer": "ipython3",
   "version": "3.5.2"
  },
  "varInspector": {
   "cols": {
    "lenName": 16,
    "lenType": 16,
    "lenVar": 40
   },
   "kernels_config": {
    "python": {
     "delete_cmd_postfix": "",
     "delete_cmd_prefix": "del ",
     "library": "var_list.py",
     "varRefreshCmd": "print(var_dic_list())"
    },
    "r": {
     "delete_cmd_postfix": ") ",
     "delete_cmd_prefix": "rm(",
     "library": "var_list.r",
     "varRefreshCmd": "cat(var_dic_list()) "
    }
   },
   "types_to_exclude": [
    "module",
    "function",
    "builtin_function_or_method",
    "instance",
    "_Feature"
   ],
   "window_display": false
  }
 },
 "nbformat": 4,
 "nbformat_minor": 2
}
